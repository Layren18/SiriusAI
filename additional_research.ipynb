{
  "nbformat": 4,
  "nbformat_minor": 0,
  "metadata": {
    "colab": {
      "provenance": []
    },
    "kernelspec": {
      "name": "python3",
      "display_name": "Python 3"
    },
    "language_info": {
      "name": "python"
    }
  },
  "cells": [
    {
      "cell_type": "code",
      "source": [
        "import pandas as pd\n",
        "import numpy as np"
      ],
      "metadata": {
        "id": "Snilb0dn5dA7"
      },
      "execution_count": 20,
      "outputs": []
    },
    {
      "cell_type": "code",
      "execution_count": 44,
      "metadata": {
        "id": "kwxEPG245V-1"
      },
      "outputs": [],
      "source": [
        "df = pd.read_csv('train.csv')\n",
        "pd.set_option('display.max_columns', None)\n",
        "columns = list(df.columns)"
      ]
    },
    {
      "cell_type": "markdown",
      "source": [
        "Вывод статистики"
      ],
      "metadata": {
        "id": "Qmg6qyeg7AV4"
      }
    },
    {
      "cell_type": "code",
      "source": [
        "print(df.info(show_counts=True, verbose=True))\n",
        "print(df.describe(percentiles=None, include=None, exclude=None))"
      ],
      "metadata": {
        "id": "cMxJXof96-Uo"
      },
      "execution_count": null,
      "outputs": []
    },
    {
      "cell_type": "markdown",
      "source": [
        "Исследование"
      ],
      "metadata": {
        "id": "4k_ColnhAku3"
      }
    },
    {
      "cell_type": "code",
      "source": [
        "print(df.shape)\n",
        "for column in columns:\n",
        "    if df[column].notna().sum() < 21330:\n",
        "        df = df.drop([column], axis=1)\n",
        "print(df.shape)\n",
        "for i in range(len(df.columns)):\n",
        "    if df.iloc[i].notna().sum() < 204:\n",
        "        df = df.drop(index=i)\n",
        "print(df.shape)\n",
        "columns = list(df.columns)\n",
        "lst = list(df.select_dtypes(include=['object']).columns)\n",
        "for column in columns:\n",
        "    if column not in lst:\n",
        "        df[column] = df[column].fillna(df[column].mean())\n",
        "print(df.info(show_counts=True, verbose=True))"
      ],
      "metadata": {
        "id": "jDGJ1dY96_jX"
      },
      "execution_count": null,
      "outputs": []
    },
    {
      "cell_type": "code",
      "source": [
        "from sklearn.neighbors import KNeighborsRegressor\n",
        "from sklearn.linear_model import LinearRegression, LogisticRegression\n",
        "from sklearn.svm import SVR\n",
        "from sklearn.ensemble import RandomForestRegressor\n",
        "from sklearn.metrics import r2_score\n",
        "\n",
        "df.corr()"
      ],
      "metadata": {
        "id": "BZ2Tcu91ibpa"
      },
      "execution_count": null,
      "outputs": []
    },
    {
      "cell_type": "code",
      "source": [
        "df = df[df.full_sq > 10]\n",
        "df = df[df.full_sq < 150]\n",
        "df = df[df.life_sq > 5]\n",
        "df = df[df.life_sq < 150]\n",
        "df = df[df.floor > 0]\n",
        "df = df[df.floor <= 27]\n",
        "df = df[df.max_floor > 0]\n",
        "df = df[df.max_floor < 27]\n",
        "df = df[df.num_room > 0]\n",
        "df = df[df.num_room < 6]\n",
        "df = df[df.kitch_sq > 0]\n",
        "df = df[df.kitch_sq < 22]\n",
        "df = df[df.build_year != 0]\n",
        "df = df[df.build_year != 1]\n",
        "df = df[df.build_year != 3]\n",
        "df = df[df.build_year != 20]\n",
        "df = df[df.build_year != 71]\n",
        "df = df[df.build_year != 1691]\n",
        "df['build_year'] = df['build_year'].fillna(0)\n",
        "df = df[df.build_year < 2016]\n",
        "df['build_year'] = df['build_year'].replace(to_replace=0, value=np.NaN)\n",
        "df['build_year'] = df['build_year'].fillna(df['build_year'].mean())"
      ],
      "metadata": {
        "id": "MusoaeiNnTY8"
      },
      "execution_count": 25,
      "outputs": []
    },
    {
      "cell_type": "code",
      "source": [
        "df = df.sort_values('price_doc')\n",
        "df.plot(x=\"sport_count_5000\", y=\"price_doc\", kind=\"scatter\", s= 4 , c='purple')"
      ],
      "metadata": {
        "id": "Qug_eT1VPhy9"
      },
      "execution_count": null,
      "outputs": []
    },
    {
      "cell_type": "code",
      "source": [
        "df.drop(['ID_railroad_station_walk', 'ID_railroad_station_avto', 'ID_big_road1', 'ID_big_road2',\n",
        "         'ID_railroad_terminal', 'ID_bus_terminal', ], axis=1, inplace=True)"
      ],
      "metadata": {
        "id": "7JgWlLSpsvpx"
      },
      "execution_count": 23,
      "outputs": []
    }
  ]
}